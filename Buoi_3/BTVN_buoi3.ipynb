{
  "cells": [
    {
      "cell_type": "markdown",
      "metadata": {
        "id": "uCkYov2PfXvt"
      },
      "source": [
        "Problem 1"
      ]
    },
    {
      "cell_type": "code",
      "execution_count": 1,
      "metadata": {
        "id": "ghpB-iWUfbAz"
      },
      "outputs": [],
      "source": [
        "def fac(n):\n",
        "    res = 1\n",
        "    for i in range(1,n+1):\n",
        "        res *= i\n",
        "    return res\n",
        "\n",
        "def e(x, n):\n",
        "    res = 1\n",
        "    for i in range(1,n+1):\n",
        "        res += x**i/fac(i)\n",
        "    return res\n",
        "\n",
        "def S(n):\n",
        "    res = 0\n",
        "    for i in range(1,n+1):\n",
        "        res += 1/fac(n)\n",
        "    return res\n",
        "\n",
        "\n",
        "\n",
        "\n"
      ]
    },
    {
      "cell_type": "markdown",
      "metadata": {
        "id": "ibhGyU8bfl9z"
      },
      "source": [
        "Problem 2"
      ]
    },
    {
      "cell_type": "code",
      "execution_count": null,
      "metadata": {
        "colab": {
          "base_uri": "https://localhost:8080/"
        },
        "id": "lI6rqZKofrER",
        "outputId": "aa3d6f3b-0ddd-4762-f608-f43cd4e12a42"
      },
      "outputs": [],
      "source": [
        "import math\n",
        "\n",
        "n = int(input())\n",
        "count = 0\n",
        "for i in range(2, n):\n",
        "    if math.isqrt(i) ** 2 == i:\n",
        "        count += 1\n",
        "print(count)"
      ]
    },
    {
      "cell_type": "markdown",
      "metadata": {
        "id": "2pm9KfsYf3dH"
      },
      "source": [
        "Problem 3"
      ]
    },
    {
      "cell_type": "code",
      "execution_count": null,
      "metadata": {
        "id": "gEe2Yo4Ff5MD"
      },
      "outputs": [],
      "source": [
        "n = int(input())\n",
        "ds = []\n",
        "for i in range(n):\n",
        "    ten = input()\n",
        "    d1 = int(input())\n",
        "    d2 = int(input())\n",
        "    d3 = d1 + d2\n",
        "    if d3 > 190:\n",
        "        ket_qua = \"Xuat sac\"\n",
        "    elif d3 > 150:\n",
        "        ket_qua = \"Gioi\"\n",
        "    elif d3 > 100:\n",
        "        ket_qua = \"Kha\"\n",
        "    else:\n",
        "        ket_qua = \"Yeu\"\n",
        "\n",
        "    ds.append(f'{i + 1} {ten} {d3} {ket_qua}')\n",
        "\n",
        "for ket_qua in ds:\n",
        "    print(ket_qua)\n"
      ]
    },
    {
      "cell_type": "markdown",
      "metadata": {
        "id": "F98dAPFqf-3W"
      },
      "source": [
        "Problem 4"
      ]
    },
    {
      "cell_type": "code",
      "execution_count": null,
      "metadata": {
        "id": "v60keA-LgCVJ"
      },
      "outputs": [],
      "source": [
        "import re\n",
        "\n",
        "xau = input()\n",
        "email = r'^\\w+@\\w+\\.\\w+$'\n",
        "print(\"Valid\" if re.match(email,xau) else \"Invalid\")"
      ]
    },
    {
      "cell_type": "markdown",
      "metadata": {
        "id": "aMy_tcW3gIH6"
      },
      "source": [
        "Problem 5"
      ]
    },
    {
      "cell_type": "code",
      "execution_count": null,
      "metadata": {
        "id": "VQrGkZo8gKNq"
      },
      "outputs": [],
      "source": [
        "\n",
        "m = int(input(\"Nhập vào số lượng loài động vật: \"))\n",
        "animals = []\n",
        "food = []\n",
        "\n",
        "for i in range(m):\n",
        "    animal_name = input(f\"Nhập vào tên loài thứ {i + 1}: \")\n",
        "    animals.append(animal_name)\n",
        "\n",
        "for i in range(m):\n",
        "    food_amount = int(input(f\"Nhập số kg thức ăn cho {animal_name}: \"))\n",
        "    food.append(food_amount)\n",
        "daily_descriptions = [f\"({animals[i]}, {food[i]})\" for i in range(m)]\n",
        "\n",
        "total_food = 0\n",
        "for i in range(m):\n",
        "    if food[i] < 5:\n",
        "        continue\n",
        "    if food[i] > 100:\n",
        "        break\n",
        "    total_food += food[i]\n",
        "\n",
        "top_eater = animals[food.index(max(food))]\n",
        "\n",
        "lowest_eater_index = \"Không có\"\n",
        "min_food = min([f for f in food if f < 5], default=None)\n",
        "if min_food is not None:\n",
        "    lowest_eater_index = food.index(min_food)\n",
        "\n",
        "print(list(daily_descriptions))\n",
        "print(total_food)\n",
        "print(top_eater)\n",
        "print(lowest_eater_index)\n",
        "\n",
        "\n"
      ]
    },
    {
      "cell_type": "markdown",
      "metadata": {
        "id": "Wknvl6yzgNfs"
      },
      "source": [
        "Problem 6"
      ]
    },
    {
      "cell_type": "code",
      "execution_count": null,
      "metadata": {
        "id": "ZJe_8siRgO0h"
      },
      "outputs": [],
      "source": [
        "import math\n",
        "\n",
        "def is_number(x):\n",
        "    try:\n",
        "        float(x)\n",
        "        return True\n",
        "    except ValueError:\n",
        "        return False\n",
        "\n",
        "def activation_function_cnn():\n",
        "    x = float(input(\"Enter x: \"))\n",
        "\n",
        "    if not is_number(x):\n",
        "        print(\"x must be a number\")\n",
        "        return\n",
        "\n",
        "    string = input(\"Enter activation function: ( binary | sigmoid | elu ): \")\n",
        "\n",
        "    if string == \"binary\":\n",
        "        print('0' if x < 0 else \"1\")\n",
        "    elif string == \"sigmoid\":\n",
        "        print(1 / (1 + math.exp(-x)))\n",
        "    elif string == \"elu\":\n",
        "        print(x if x >= 0 else 0.01 * (math.exp(x) - 1))\n",
        "    else:\n",
        "        print(\"Not supported\")\n",
        "\n",
        "activation_function_cnn()"
      ]
    }
  ],
  "metadata": {
    "colab": {
      "provenance": []
    },
    "kernelspec": {
      "display_name": "Python 3",
      "name": "python3"
    },
    "language_info": {
      "name": "python"
    }
  },
  "nbformat": 4,
  "nbformat_minor": 0
}
