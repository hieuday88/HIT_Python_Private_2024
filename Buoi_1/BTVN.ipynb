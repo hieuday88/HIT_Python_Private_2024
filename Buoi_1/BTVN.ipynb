{
  "nbformat": 4,
  "nbformat_minor": 0,
  "metadata": {
    "colab": {
      "provenance": []
    },
    "kernelspec": {
      "name": "python3",
      "display_name": "Python 3"
    },
    "language_info": {
      "name": "python"
    }
  },
  "cells": [
    {
      "cell_type": "markdown",
      "source": [
        "Câu 1: Python có thể làm được gì?\n",
        "Python có thể phát triển web, phân tích dữ liệu, trí tuệ nhân tạo (AI), machine learning, tự động hóa tác vụ (automation), lập trình nhúng và thậm chí dùng trong game development.\n",
        "\n",
        "Câu 2: So sánh Python với C++:\n",
        "Python: Dễ học, cú pháp đơn giản, tốc độ chậm hơn, là ngôn ngữ thông dịch, tốt cho phát triển nhanh và xử lý dữ liệu.\n",
        "C++: Phức tạp hơn, tốc độ nhanh hơn, là ngôn ngữ biên dịch, phù hợp cho các ứng dụng yêu cầu hiệu năng cao như game hoặc hệ thống.\n",
        "\n",
        "Câu 3: Python là ngôn ngữ thông dịch vì mã nguồn được thực thi trực tiếp bởi trình thông dịch, không cần qua bước biên dịch thành mã máy trước như C++.\n",
        "\n",
        "Câu 5: Kiến thức cơ bản:\n",
        "Khai báo biến: x = 5 (không cần khai báo kiểu dữ liệu).\n",
        "Toán tử: Cộng (+), trừ (-), nhân (*), chia (/), chia lấy dư (%), chia lấy phần nguyên (//), lũy thừa (**).\n",
        "Kiểu dữ liệu: int (số nguyên), float (số thực), str (chuỗi), list (danh sách), dict (từ điển), bool (kiểu logic)."
      ],
      "metadata": {
        "id": "ya6AUyj0rpI2"
      }
    },
    {
      "cell_type": "code",
      "source": [
        "# Khai báo biến không cần chỉ rõ kiểu dữ liệu\n",
        "x = 10      # int\n",
        "y = 3.14    # float\n",
        "name = \"Python\"  # string\n",
        "isPrime = True  # boolean\n"
      ],
      "metadata": {
        "id": "Bdtov6BysNYV"
      },
      "execution_count": null,
      "outputs": []
    },
    {
      "cell_type": "code",
      "source": [
        "a = 10\n",
        "b = 3\n",
        "\n",
        "# Toán tử số học\n",
        "tong = a + b       # cộng\n",
        "hieu = a - b       # trừ\n",
        "tich = a * b       # nhân\n",
        "thuong = a / b     # chia bình thường\n",
        "du = a % b         # chia lấy dư\n",
        "phan_nguyen = a // b  # chia lấy phần nguyên\n",
        "mu = a ** b        # lũy thừa a mũ b\n",
        "\n",
        "# Toán tử so sánh\n",
        "print(a > b)  # True\n",
        "print(a == b) # False\n",
        "\n",
        "# Toán tử logic\n",
        "print(a > 5 and b < 5)  # True\n",
        "print(a > 5 or b > 5)   # True\n"
      ],
      "metadata": {
        "id": "db0vbbJpsUQZ"
      },
      "execution_count": null,
      "outputs": []
    },
    {
      "cell_type": "code",
      "source": [
        "# Số nguyên (int)\n",
        "so_nguyen = 100\n",
        "\n",
        "# Số thực (float)\n",
        "so_thuc = 12.34\n",
        "\n",
        "# Chuỗi (string)\n",
        "chuoi = \"Hello, Python!\"\n",
        "\n",
        "# Danh sách (list)\n",
        "danh_sach = [1, 2, 3, 4, 5]\n",
        "\n",
        "# Từ điển (dictionary)\n",
        "tu_dien = {\"name\": \"Hieu\", \"age\": 25}\n",
        "\n",
        "# Kiểu boolean (bool)\n",
        "is_happy = True\n",
        "\n",
        "# In ra các giá trị\n",
        "print(so_nguyen, so_thuc, chuoi, danh_sach, tu_dien, is_happy)\n"
      ],
      "metadata": {
        "id": "CLvVLeZ2st_x"
      },
      "execution_count": null,
      "outputs": []
    }
  ]
}